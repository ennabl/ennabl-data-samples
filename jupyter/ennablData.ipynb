{
 "cells": [
  {
   "cell_type": "markdown",
   "metadata": {
    "pycharm": {
     "name": "#%% md\n"
    }
   },
   "source": [
    "# ennablData\n",
    "\n",
    "This notebook uses `sqlalchemy` and `pyathena` to connect to ennablData."
   ]
  },
  {
   "cell_type": "code",
   "execution_count": null,
   "metadata": {
    "pycharm": {
     "name": "#%%\n"
    }
   },
   "outputs": [],
   "source": [
    "%pip install pandas\n",
    "%pip install sqlalchemy==1.4.32\n",
    "%pip install pyathena==2.14.0"
   ]
  },
  {
   "cell_type": "code",
   "execution_count": null,
   "metadata": {
    "pycharm": {
     "name": "#%%\n"
    }
   },
   "outputs": [],
   "source": [
    "from sqlalchemy import create_engine\n",
    "\n",
    "# Generate ennablData access credentials on https://app.ennabl.com/command/data-access/connect\n",
    "PUBLIC_KEY = \"<YOUR PUBLIC KEY>\"\n",
    "PRIVATE_KEY = \"<YOUR PRIVATE KEY>\"\n",
    "\n",
    "conn_str = (\n",
    "    f\"awsathena+rest://{PUBLIC_KEY}:{PRIVATE_KEY}@\"\n",
    "    f\"athena.us-east-1.amazonaws.com:443/\"\n",
    "    \"?work_group=ennabl-external\"\n",
    ")\n",
    "\n",
    "engine = create_engine(conn_str)\n",
    "conn = engine.connect()"
   ]
  },
  {
   "cell_type": "code",
   "execution_count": null,
   "metadata": {
    "pycharm": {
     "name": "#%%\n"
    }
   },
   "outputs": [],
   "source": [
    "import pandas as pd\n",
    "pd.read_sql_query(\"select * from data_marts_current.view_ennabl_policy limit 20\", conn)"
   ]
  }
 ],
 "metadata": {
  "kernelspec": {
   "display_name": "Python 3 (ipykernel)",
   "language": "python",
   "name": "python3"
  },
  "language_info": {
   "codemirror_mode": {
    "name": "ipython",
    "version": 3
   },
   "file_extension": ".py",
   "mimetype": "text/x-python",
   "name": "python",
   "nbconvert_exporter": "python",
   "pygments_lexer": "ipython3",
   "version": "3.9.1"
  },
  "vscode": {
   "interpreter": {
    "hash": "46d6fa9477453f86b15f9f5fbe3dbe6b820152fac7421e9b8f130782e2528b03"
   }
  }
 },
 "nbformat": 4,
 "nbformat_minor": 1
}
