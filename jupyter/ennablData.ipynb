{
 "cells": [
  {
   "cell_type": "markdown",
   "metadata": {
    "collapsed": false,
    "pycharm": {
     "name": "#%% md\n"
    }
   },
   "source": [
    "# ennablData\n",
    "\n",
    "This notebook uses `sqlalchemy` and `pyathena` to connect to ennablData."
   ]
  },
  {
   "cell_type": "code",
   "execution_count": null,
   "metadata": {
    "pycharm": {
     "name": "#%%\n"
    }
   },
   "outputs": [],
   "source": [
    "%pip install pandas\n",
    "%pip install sqlalchemy\n",
    "%pip install pyathena"
   ]
  },
  {
   "cell_type": "code",
   "execution_count": null,
   "metadata": {
    "pycharm": {
     "name": "#%%\n"
    }
   },
   "outputs": [],
   "source": [
    "from sqlalchemy import create_engine\n",
    "\n",
    "# Generate ennablData access credentials on https://app.ennabl.com/command/data-access/connect\n",
    "PUBLIC_KEY = \"<YOUR PUBLIC KEY>\"\n",
    "PRIVATE_KEY = \"<YOUR PRIVATE KEY>\"\n",
    "\n",
    "conn_str = (\n",
    "    f\"awsathena+rest://{AWS_ACCESS_KEY}:{AWS_SECRET_KEY}@\"\n",
    "    f\"athena.us-east-1.amazonaws.com:443/\"\n",
    "    \"?work_group=ennabl-external\"\n",
    ")\n",
    "\n",
    "engine = create_engine(conn_str)\n",
    "conn = engine.connect()"
   ]
  },
  {
   "cell_type": "code",
   "execution_count": null,
   "metadata": {
    "pycharm": {
     "name": "#%%\n"
    }
   },
   "outputs": [],
   "source": [
    "import pandas as pd\n",
    "pd.read_sql_query(\"select * from data_marts_current.view_ennabl_policy limit 20\", conn)"
   ]
  }
 ],
 "metadata": {
  "kernelspec": {
   "display_name": "Python 3",
   "language": "python",
   "name": "python3"
  },
  "language_info": {
   "codemirror_mode": {
    "name": "ipython",
    "version": 2
   },
   "file_extension": ".py",
   "mimetype": "text/x-python",
   "name": "python",
   "nbconvert_exporter": "python",
   "pygments_lexer": "ipython2",
   "version": "2.7.6"
  }
 },
 "nbformat": 4,
 "nbformat_minor": 0
}
